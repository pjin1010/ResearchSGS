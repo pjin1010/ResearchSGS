{
 "cells": [
  {
   "cell_type": "markdown",
   "id": "2f949411",
   "metadata": {},
   "source": [
    "# Fully Convolutional Neural Network Parameterizations\n",
    "\n",
    "In this notebook, we'll demonstrate loading and evaluating one of our fully convolutional neural network (FCNN) parameterizations."
   ]
  },
  {
   "cell_type": "code",
   "execution_count": 2,
   "id": "69c1c963",
   "metadata": {},
   "outputs": [
    {
     "ename": "ModuleNotFoundError",
     "evalue": "No module named 'pyqg_parameterization_benchmarks'",
     "output_type": "error",
     "traceback": [
      "\u001b[0;31m---------------------------------------------------------------------------\u001b[0m",
      "\u001b[0;31mModuleNotFoundError\u001b[0m                       Traceback (most recent call last)",
      "File \u001b[0;32m/var/folders/hd/49ql67ms4w99p1x_q_4mdy980000gn/T/ipykernel_24540/4206669086.py:12\u001b[0m, in \u001b[0;36m<cell line: 12>\u001b[0;34m()\u001b[0m\n\u001b[1;32m     10\u001b[0m \u001b[38;5;28;01mfrom\u001b[39;00m \u001b[38;5;21;01mcollections\u001b[39;00m \u001b[38;5;28;01mimport\u001b[39;00m OrderedDict\n\u001b[1;32m     11\u001b[0m \u001b[38;5;28;01mfrom\u001b[39;00m \u001b[38;5;21;01mtorch\u001b[39;00m\u001b[38;5;21;01m.\u001b[39;00m\u001b[38;5;21;01mautograd\u001b[39;00m \u001b[38;5;28;01mimport\u001b[39;00m grad, Variable\n\u001b[0;32m---> 12\u001b[0m \u001b[38;5;28;01mfrom\u001b[39;00m \u001b[38;5;21;01mpyqg_parameterization_benchmarks\u001b[39;00m\u001b[38;5;21;01m.\u001b[39;00m\u001b[38;5;21;01mutils\u001b[39;00m \u001b[38;5;28;01mimport\u001b[39;00m FeatureExtractor, Parameterization\n\u001b[1;32m     14\u001b[0m \u001b[38;5;28;01mclass\u001b[39;00m \u001b[38;5;21;01mFullyCNN\u001b[39;00m(nn\u001b[38;5;241m.\u001b[39mSequential):\n\u001b[1;32m     15\u001b[0m     \u001b[38;5;124;03m\"\"\"Pytorch class defining our CNN architecture, plus some helpers for\u001b[39;00m\n\u001b[1;32m     16\u001b[0m \u001b[38;5;124;03m    dealing with constraints and scaling.\"\"\"\u001b[39;00m\n",
      "\u001b[0;31mModuleNotFoundError\u001b[0m: No module named 'pyqg_parameterization_benchmarks'"
     ]
    },
    {
     "ename": "ModuleNotFoundError",
     "evalue": "No module named 'pyqg_parameterization_benchmarks'",
     "output_type": "error",
     "traceback": [
      "\u001b[0;31m---------------------------------------------------------------------------\u001b[0m",
      "\u001b[0;31mModuleNotFoundError\u001b[0m                       Traceback (most recent call last)",
      "Input \u001b[0;32mIn [2]\u001b[0m, in \u001b[0;36m<cell line: 10>\u001b[0;34m()\u001b[0m\n\u001b[1;32m      8\u001b[0m get_ipython()\u001b[38;5;241m.\u001b[39mrun_line_magic(\u001b[38;5;124m'\u001b[39m\u001b[38;5;124mmatplotlib\u001b[39m\u001b[38;5;124m'\u001b[39m, \u001b[38;5;124m'\u001b[39m\u001b[38;5;124minline\u001b[39m\u001b[38;5;124m'\u001b[39m)\n\u001b[1;32m      9\u001b[0m plt\u001b[38;5;241m.\u001b[39mrcParams\u001b[38;5;241m.\u001b[39mupdate({\u001b[38;5;124m'\u001b[39m\u001b[38;5;124mfont.size\u001b[39m\u001b[38;5;124m'\u001b[39m: \u001b[38;5;241m13\u001b[39m})\n\u001b[0;32m---> 10\u001b[0m \u001b[43mget_ipython\u001b[49m\u001b[43m(\u001b[49m\u001b[43m)\u001b[49m\u001b[38;5;241;43m.\u001b[39;49m\u001b[43mrun_line_magic\u001b[49m\u001b[43m(\u001b[49m\u001b[38;5;124;43m'\u001b[39;49m\u001b[38;5;124;43mrun\u001b[39;49m\u001b[38;5;124;43m'\u001b[39;49m\u001b[43m,\u001b[49m\u001b[43m \u001b[49m\u001b[38;5;124;43m'\u001b[39;49m\u001b[38;5;124;43mnnClass.ipynb\u001b[39;49m\u001b[38;5;124;43m'\u001b[39;49m\u001b[43m)\u001b[49m\n",
      "File \u001b[0;32m~/opt/anaconda3/lib/python3.9/site-packages/IPython/core/interactiveshell.py:2305\u001b[0m, in \u001b[0;36mInteractiveShell.run_line_magic\u001b[0;34m(self, magic_name, line, _stack_depth)\u001b[0m\n\u001b[1;32m   2303\u001b[0m     kwargs[\u001b[38;5;124m'\u001b[39m\u001b[38;5;124mlocal_ns\u001b[39m\u001b[38;5;124m'\u001b[39m] \u001b[38;5;241m=\u001b[39m \u001b[38;5;28mself\u001b[39m\u001b[38;5;241m.\u001b[39mget_local_scope(stack_depth)\n\u001b[1;32m   2304\u001b[0m \u001b[38;5;28;01mwith\u001b[39;00m \u001b[38;5;28mself\u001b[39m\u001b[38;5;241m.\u001b[39mbuiltin_trap:\n\u001b[0;32m-> 2305\u001b[0m     result \u001b[38;5;241m=\u001b[39m \u001b[43mfn\u001b[49m\u001b[43m(\u001b[49m\u001b[38;5;241;43m*\u001b[39;49m\u001b[43margs\u001b[49m\u001b[43m,\u001b[49m\u001b[43m \u001b[49m\u001b[38;5;241;43m*\u001b[39;49m\u001b[38;5;241;43m*\u001b[39;49m\u001b[43mkwargs\u001b[49m\u001b[43m)\u001b[49m\n\u001b[1;32m   2306\u001b[0m \u001b[38;5;28;01mreturn\u001b[39;00m result\n",
      "File \u001b[0;32m~/opt/anaconda3/lib/python3.9/site-packages/IPython/core/magics/execution.py:717\u001b[0m, in \u001b[0;36mExecutionMagics.run\u001b[0;34m(self, parameter_s, runner, file_finder)\u001b[0m\n\u001b[1;32m    715\u001b[0m     \u001b[38;5;28;01mwith\u001b[39;00m preserve_keys(\u001b[38;5;28mself\u001b[39m\u001b[38;5;241m.\u001b[39mshell\u001b[38;5;241m.\u001b[39muser_ns, \u001b[38;5;124m'\u001b[39m\u001b[38;5;124m__file__\u001b[39m\u001b[38;5;124m'\u001b[39m):\n\u001b[1;32m    716\u001b[0m         \u001b[38;5;28mself\u001b[39m\u001b[38;5;241m.\u001b[39mshell\u001b[38;5;241m.\u001b[39muser_ns[\u001b[38;5;124m'\u001b[39m\u001b[38;5;124m__file__\u001b[39m\u001b[38;5;124m'\u001b[39m] \u001b[38;5;241m=\u001b[39m filename\n\u001b[0;32m--> 717\u001b[0m         \u001b[38;5;28;43mself\u001b[39;49m\u001b[38;5;241;43m.\u001b[39;49m\u001b[43mshell\u001b[49m\u001b[38;5;241;43m.\u001b[39;49m\u001b[43msafe_execfile_ipy\u001b[49m\u001b[43m(\u001b[49m\u001b[43mfilename\u001b[49m\u001b[43m,\u001b[49m\u001b[43m \u001b[49m\u001b[43mraise_exceptions\u001b[49m\u001b[38;5;241;43m=\u001b[39;49m\u001b[38;5;28;43;01mTrue\u001b[39;49;00m\u001b[43m)\u001b[49m\n\u001b[1;32m    718\u001b[0m     \u001b[38;5;28;01mreturn\u001b[39;00m\n\u001b[1;32m    720\u001b[0m \u001b[38;5;66;03m# Control the response to exit() calls made by the script being run\u001b[39;00m\n",
      "File \u001b[0;32m~/opt/anaconda3/lib/python3.9/site-packages/IPython/core/interactiveshell.py:2811\u001b[0m, in \u001b[0;36mInteractiveShell.safe_execfile_ipy\u001b[0;34m(self, fname, shell_futures, raise_exceptions)\u001b[0m\n\u001b[1;32m   2809\u001b[0m result \u001b[38;5;241m=\u001b[39m \u001b[38;5;28mself\u001b[39m\u001b[38;5;241m.\u001b[39mrun_cell(cell, silent\u001b[38;5;241m=\u001b[39m\u001b[38;5;28;01mTrue\u001b[39;00m, shell_futures\u001b[38;5;241m=\u001b[39mshell_futures)\n\u001b[1;32m   2810\u001b[0m \u001b[38;5;28;01mif\u001b[39;00m raise_exceptions:\n\u001b[0;32m-> 2811\u001b[0m     \u001b[43mresult\u001b[49m\u001b[38;5;241;43m.\u001b[39;49m\u001b[43mraise_error\u001b[49m\u001b[43m(\u001b[49m\u001b[43m)\u001b[49m\n\u001b[1;32m   2812\u001b[0m \u001b[38;5;28;01melif\u001b[39;00m \u001b[38;5;129;01mnot\u001b[39;00m result\u001b[38;5;241m.\u001b[39msuccess:\n\u001b[1;32m   2813\u001b[0m     \u001b[38;5;28;01mbreak\u001b[39;00m\n",
      "File \u001b[0;32m~/opt/anaconda3/lib/python3.9/site-packages/IPython/core/interactiveshell.py:251\u001b[0m, in \u001b[0;36mExecutionResult.raise_error\u001b[0;34m(self)\u001b[0m\n\u001b[1;32m    249\u001b[0m     \u001b[38;5;28;01mraise\u001b[39;00m \u001b[38;5;28mself\u001b[39m\u001b[38;5;241m.\u001b[39merror_before_exec\n\u001b[1;32m    250\u001b[0m \u001b[38;5;28;01mif\u001b[39;00m \u001b[38;5;28mself\u001b[39m\u001b[38;5;241m.\u001b[39merror_in_exec \u001b[38;5;129;01mis\u001b[39;00m \u001b[38;5;129;01mnot\u001b[39;00m \u001b[38;5;28;01mNone\u001b[39;00m:\n\u001b[0;32m--> 251\u001b[0m     \u001b[38;5;28;01mraise\u001b[39;00m \u001b[38;5;28mself\u001b[39m\u001b[38;5;241m.\u001b[39merror_in_exec\n",
      "    \u001b[0;31m[... skipping hidden 1 frame]\u001b[0m\n",
      "File \u001b[0;32m/var/folders/hd/49ql67ms4w99p1x_q_4mdy980000gn/T/ipykernel_24540/4206669086.py:12\u001b[0m, in \u001b[0;36m<cell line: 12>\u001b[0;34m()\u001b[0m\n\u001b[1;32m     10\u001b[0m \u001b[38;5;28;01mfrom\u001b[39;00m \u001b[38;5;21;01mcollections\u001b[39;00m \u001b[38;5;28;01mimport\u001b[39;00m OrderedDict\n\u001b[1;32m     11\u001b[0m \u001b[38;5;28;01mfrom\u001b[39;00m \u001b[38;5;21;01mtorch\u001b[39;00m\u001b[38;5;21;01m.\u001b[39;00m\u001b[38;5;21;01mautograd\u001b[39;00m \u001b[38;5;28;01mimport\u001b[39;00m grad, Variable\n\u001b[0;32m---> 12\u001b[0m \u001b[38;5;28;01mfrom\u001b[39;00m \u001b[38;5;21;01mpyqg_parameterization_benchmarks\u001b[39;00m\u001b[38;5;21;01m.\u001b[39;00m\u001b[38;5;21;01mutils\u001b[39;00m \u001b[38;5;28;01mimport\u001b[39;00m FeatureExtractor, Parameterization\n\u001b[1;32m     14\u001b[0m \u001b[38;5;28;01mclass\u001b[39;00m \u001b[38;5;21;01mFullyCNN\u001b[39;00m(nn\u001b[38;5;241m.\u001b[39mSequential):\n\u001b[1;32m     15\u001b[0m     \u001b[38;5;124;03m\"\"\"Pytorch class defining our CNN architecture, plus some helpers for\u001b[39;00m\n\u001b[1;32m     16\u001b[0m \u001b[38;5;124;03m    dealing with constraints and scaling.\"\"\"\u001b[39;00m\n",
      "\u001b[0;31mModuleNotFoundError\u001b[0m: No module named 'pyqg_parameterization_benchmarks'"
     ]
    }
   ],
   "source": [
    "import numpy as np\n",
    "import xarray as xr\n",
    "import matplotlib.pyplot as plt\n",
    "import pyqg\n",
    "import json\n",
    "import fsspec\n",
    "\n",
    "%matplotlib inline\n",
    "plt.rcParams.update({'font.size': 13})\n",
    "%run nnClass.ipynb"
   ]
  },
  {
   "cell_type": "markdown",
   "id": "9c009aa0",
   "metadata": {},
   "source": [
    "## Load the FCNN and a dataset"
   ]
  },
  {
   "cell_type": "code",
   "execution_count": null,
   "id": "9ad000c3",
   "metadata": {},
   "outputs": [],
   "source": [
    "param = FCNNParameterization('../models/fcnn_q_to_Sqtot1')\n",
    "\n",
    "# Print out a summary of its architecture -- note the circular padding,\n",
    "# which was particularly important for performance.\n",
    "param.models[0]"
   ]
  },
  {
   "cell_type": "code",
   "execution_count": null,
   "id": "3d73e1a6",
   "metadata": {},
   "outputs": [],
   "source": [
    "# Datasets are hosted on globus as zarr files\n",
    "def get_dataset(path, base_url=\"https://g-402b74.00888.8540.data.globus.org\"):\n",
    "    mapper = fsspec.get_mapper(f\"{base_url}/{path}.zarr\")\n",
    "    return xr.open_zarr(mapper, consolidated=True)"
   ]
  },
  {
   "cell_type": "code",
   "execution_count": null,
   "id": "e2a0bed7",
   "metadata": {},
   "outputs": [],
   "source": [
    "# This dataset has the same distribution as the FCNN's training data, but is not something the FCNN has seen\n",
    "# (we regenerated the dataset after pyqg changes which standardized/saved more diagnostics).\n",
    "eddy_forcing1 = get_dataset('eddy/forcing1').isel(run=0).load()\n",
    "eddy_forcing1['q_forcing_total'] = eddy_forcing1.dqdt_bar - eddy_forcing1.dqbar_dt"
   ]
  },
  {
   "cell_type": "markdown",
   "id": "d5444049",
   "metadata": {},
   "source": [
    "## Test it offline"
   ]
  },
  {
   "cell_type": "code",
   "execution_count": null,
   "id": "47beb877",
   "metadata": {},
   "outputs": [],
   "source": [
    "preds = param.test_offline(eddy_forcing1)"
   ]
  },
  {
   "cell_type": "code",
   "execution_count": null,
   "id": "1bcbede2",
   "metadata": {},
   "outputs": [],
   "source": [
    "def imshow(arr):\n",
    "    plt.imshow(arr, vmin=0, vmax=1, cmap='inferno')\n",
    "    mean = arr.mean().data\n",
    "    plt.text(32, 32, f\"{mean:.2f}\", color=('white' if mean<0.75 else 'black'),\n",
    "             fontweight='bold', ha='center', va='center', fontsize=16)\n",
    "    plt.xticks([]); plt.yticks([])\n",
    "    \n",
    "def colorbar(label):\n",
    "    plt.colorbar().set_label(label, fontsize=16,rotation=0,ha='left',va='center')\n",
    "    \n",
    "plt.figure(figsize=(7.6,6)).suptitle(\"Offline performance\")\n",
    "\n",
    "for z in [0,1]:\n",
    "    plt.subplot(2,2,z+1,title=f\"{['Upper','Lower'][z]} layer\")\n",
    "    imshow(preds.q_forcing_total_spatial_correlation.isel(lev=z))\n",
    "    if z: colorbar(\"Correlation\")\n",
    "    \n",
    "for z in [0,1]:\n",
    "    plt.subplot(2,2,z+3)\n",
    "    imshow(preds.q_forcing_total_spatial_skill.isel(lev=z))\n",
    "    if z: colorbar(\"$R^2$\")"
   ]
  },
  {
   "cell_type": "markdown",
   "id": "cbe92f77",
   "metadata": {},
   "source": [
    "Compared to [our symbolic regression results](./hybrid_symbolic.ipynb), the FCNN's offline performance is clearly stronger."
   ]
  },
  {
   "cell_type": "markdown",
   "id": "2f6ad09f",
   "metadata": {},
   "source": [
    "## Run it online (if you have a GPU)\n",
    "\n",
    "This may take a while if you don't:"
   ]
  },
  {
   "cell_type": "code",
   "execution_count": null,
   "id": "e7d289ea",
   "metadata": {},
   "outputs": [],
   "source": [
    "%%time\n",
    "hires = get_dataset('eddy/high_res').isel(run=0)\n",
    "lores = get_dataset('eddy/low_res').isel(run=0)\n",
    "param_run = param.run_online(**json.loads(eddy_forcing1.pyqg_params))"
   ]
  },
  {
   "cell_type": "markdown",
   "id": "3e43b46e",
   "metadata": {},
   "source": [
    "Even with a GPU, it takes a similar amount of time to run an FCNN-parameterized as it does to run a high-res simulation! But let's take a look:"
   ]
  },
  {
   "cell_type": "code",
   "execution_count": null,
   "id": "441ddb33",
   "metadata": {},
   "outputs": [],
   "source": [
    "eddy_sims = [(hires, 'High-res'),(lores, 'Low-res'),(param_run,'Low-res+FCNN')]\n",
    "fig = energy_budget_figure(eddy_sims)\n",
    "fig.suptitle(\"Energy budget comparison, fully convolutional neural network\")\n",
    "plt.tight_layout()\n",
    "plt.show()"
   ]
  },
  {
   "cell_type": "markdown",
   "id": "38b23527",
   "metadata": {},
   "source": [
    "Overall, this seems to be an improvement. In our paper, we quantify these differences using a ratio of FCNN-highres and lowres-highres differences.\n",
    "\n",
    "Let's look at some raw data snapshots just to confirm everything looks ok:"
   ]
  },
  {
   "cell_type": "code",
   "execution_count": null,
   "id": "3516f0e1",
   "metadata": {},
   "outputs": [],
   "source": [
    "plt.figure(figsize=(13,4)).suptitle(\"Upper PV snapshots\")\n",
    "for i, (m, label) in enumerate(eddy_sims):\n",
    "    plt.subplot(1,3,i+1, title=label)\n",
    "    plt.imshow(m.q.isel(lev=0,time=-1), cmap='bwr', vmin=-3e-5, vmax=3e-5)\n",
    "plt.colorbar(label=\"Upper PV [$s^{-1}$]\")\n",
    "plt.tight_layout()"
   ]
  },
  {
   "cell_type": "markdown",
   "id": "3cd4935e",
   "metadata": {},
   "source": [
    "The FCNN-parameterized model seems to have larger overall values for the upper PV. We can also confirm this by looking at marginal distributions:"
   ]
  },
  {
   "cell_type": "code",
   "execution_count": null,
   "id": "ad735160",
   "metadata": {},
   "outputs": [],
   "source": [
    "from scipy.stats import gaussian_kde\n",
    "plt.title(\"Differences in distributions of quasi-steady $q_1$\")\n",
    "for i, (m, label) in enumerate(eddy_sims):\n",
    "    data = m.q.isel(lev=0,time=slice(-20,None)).data.ravel()\n",
    "    dist = gaussian_kde(data)\n",
    "    x = np.linspace(*np.percentile(data, [1,99]), 1000)\n",
    "    plt.plot(x, dist(x), label=label, lw=3, ls=('--' if 'FCNN' in label else '-'))\n",
    "plt.legend()\n",
    "plt.xlabel(\"Upper PV [$s^{-1}$]\")\n",
    "plt.ylabel(\"Probability density\")\n",
    "plt.tight_layout()"
   ]
  },
  {
   "cell_type": "markdown",
   "id": "fb8e6ab9",
   "metadata": {},
   "source": [
    "The FCNN's distribution is much, much closer. In the paper, we quantify this with Wasserstein distance over a much larger set of variables.\n",
    "\n",
    "## Testing generalization\n",
    "\n",
    "Now, although our FCNN performs well in a context that matches its training data, neural networks often have trouble generalizing to new domains. Let's try it with a second \"jet\" configuration:"
   ]
  },
  {
   "cell_type": "code",
   "execution_count": null,
   "id": "25f485c6",
   "metadata": {},
   "outputs": [],
   "source": [
    "# This dataset has the same distribution as the FCNN's training data, but is not something the FCNN has seen\n",
    "# (we regenerated the dataset after pyqg changes which standardized/saved more diagnostics).\n",
    "jet_forcing1 = get_dataset('jet/forcing1').isel(run=0).load()\n",
    "jet_forcing1['q_forcing_total'] = jet_forcing1.dqdt_bar - jet_forcing1.dqbar_dt"
   ]
  },
  {
   "cell_type": "code",
   "execution_count": null,
   "id": "d92552fe",
   "metadata": {},
   "outputs": [],
   "source": [
    "preds2 = param.test_offline(jet_forcing1)"
   ]
  },
  {
   "cell_type": "code",
   "execution_count": null,
   "id": "3f4d0c28",
   "metadata": {},
   "outputs": [],
   "source": [
    "plt.figure(figsize=(7.6,6)).suptitle(\"Offline performance, jet config\")\n",
    "\n",
    "for z in [0,1]:\n",
    "    plt.subplot(2,2,z+1,title=f\"{['Upper','Lower'][z]} layer\")\n",
    "    imshow(preds2.q_forcing_total_spatial_correlation.isel(lev=z))\n",
    "    if z: colorbar(\"Correlation\")\n",
    "    \n",
    "for z in [0,1]:\n",
    "    plt.subplot(2,2,z+3)\n",
    "    imshow(preds2.q_forcing_total_spatial_skill.isel(lev=z))\n",
    "    if z: colorbar(\"$R^2$\")"
   ]
  },
  {
   "cell_type": "markdown",
   "id": "d7d16751",
   "metadata": {},
   "source": [
    "Although the FCNN's correlation is still reasonably high, its $R^2$ drops significantly, going negative in the lower layer. Note that across different random restarts, FCNN behavior varies here (some models have negative $R^2$s in both layers, even going down to -5 or lower).\n",
    "\n",
    "Let's see what happens online:"
   ]
  },
  {
   "cell_type": "code",
   "execution_count": null,
   "id": "cb03a1a8",
   "metadata": {},
   "outputs": [],
   "source": [
    "hires2 = get_dataset('jet/high_res').isel(run=0)\n",
    "lores2 = get_dataset('jet/low_res').isel(run=0)\n",
    "param_run2 = param.run_online(**json.loads(jet_forcing1.pyqg_params))"
   ]
  },
  {
   "cell_type": "code",
   "execution_count": null,
   "id": "1a3669d9",
   "metadata": {},
   "outputs": [],
   "source": [
    "jet_sims = [(hires2, 'High-res'),(lores2, 'Low-res'),(param_run2,'Low-res+FCNN')]\n",
    "fig = energy_budget_figure(jet_sims, skip=3) # skip first 3 wavenumbers so the plot limits are more readable\n",
    "fig.suptitle(\"Energy budget comparison, fully convolutional neural network on jet config\")\n",
    "plt.tight_layout()\n",
    "plt.show()"
   ]
  },
  {
   "cell_type": "markdown",
   "id": "f8f57d24",
   "metadata": {},
   "source": [
    "There appears to be much too much energy in the FCNN-parameterized simulation. Let's take a look at snapshots again to see what's happening:"
   ]
  },
  {
   "cell_type": "code",
   "execution_count": null,
   "id": "ecf1cd47",
   "metadata": {},
   "outputs": [],
   "source": [
    "plt.figure(figsize=(13,4)).suptitle(\"Upper PV snapshots, jet config\")\n",
    "for i, (m, label) in enumerate(jet_sims):\n",
    "    plt.subplot(1,3,i+1, title=label)\n",
    "    plt.imshow(m.q.isel(lev=0,time=-1), cmap='bwr', vmin=-3e-5, vmax=3e-5)\n",
    "plt.colorbar(label=\"Upper PV [$s^{-1}$]\")\n",
    "plt.tight_layout()"
   ]
  },
  {
   "cell_type": "markdown",
   "id": "f87ebd75",
   "metadata": {},
   "source": [
    "Instead of a coherent and vertically symmetrical 4-jet pattern, we see significant global structure that almost resembles a single jet. This problem could likely be mitigated by training on a more diverse set of data."
   ]
  },
  {
   "cell_type": "code",
   "execution_count": null,
   "id": "ea64a9b1",
   "metadata": {},
   "outputs": [],
   "source": []
  },
  {
   "cell_type": "code",
   "execution_count": null,
   "id": "99c9219d",
   "metadata": {},
   "outputs": [],
   "source": []
  }
 ],
 "metadata": {
  "kernelspec": {
   "display_name": "Python 3 (ipykernel)",
   "language": "python",
   "name": "python3"
  },
  "language_info": {
   "codemirror_mode": {
    "name": "ipython",
    "version": 3
   },
   "file_extension": ".py",
   "mimetype": "text/x-python",
   "name": "python",
   "nbconvert_exporter": "python",
   "pygments_lexer": "ipython3",
   "version": "3.9.12"
  }
 },
 "nbformat": 4,
 "nbformat_minor": 5
}
