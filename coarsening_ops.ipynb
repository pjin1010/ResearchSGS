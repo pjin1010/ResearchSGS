{
 "cells": [
  {
   "cell_type": "code",
   "execution_count": 1,
   "id": "128b2cac",
   "metadata": {},
   "outputs": [],
   "source": [
    "import numpy as np\n",
    "import pyqg\n",
    "from functools import cached_property"
   ]
  },
  {
   "cell_type": "code",
   "execution_count": 2,
   "id": "36bf2ba1",
   "metadata": {},
   "outputs": [],
   "source": [
    "def config_for(m):\n",
    "    \"\"\"Return the parameters needed to initialize a new\n",
    "    pyqg.QGModel, except for nx and ny.\"\"\"\n",
    "    config = dict(H1 = m.Hi[0])\n",
    "    for prop in ['L', 'W', 'dt', 'rek', 'g', 'beta', 'delta',\n",
    "            'U1', 'U2', 'rd']:\n",
    "        config[prop] = getattr(m, prop)\n",
    "    return config"
   ]
  },
  {
   "cell_type": "code",
   "execution_count": 3,
   "id": "bd59d7ee",
   "metadata": {},
   "outputs": [],
   "source": [
    "class Coarsener:\n",
    "    \"\"\"Common code for defining filtering and coarse-graining operators.\"\"\"\n",
    "    def __init__(self, high_res_model, low_res_nx):\n",
    "        assert low_res_nx < high_res_model.nx\n",
    "        assert low_res_nx % 2 == 0\n",
    "        self.m1 = high_res_model\n",
    "        self.m1._invert()\n",
    "        self.m2 = pyqg.QGModel(nx=low_res_nx, **config_for(high_res_model))\n",
    "        self.m2.q = self.coarsen(self.m1.q)\n",
    "        self.m2._invert() # recompute psi, u, and v\n",
    "        self.m2._calc_derived_fields()\n",
    "        \n",
    "    @property\n",
    "    def q_forcing_total(self):\n",
    "        for m in [self.m1, self.m2]:\n",
    "            m._invert()\n",
    "            m._do_advection()\n",
    "            m._do_friction()\n",
    "        return self.coarsen(self.m1.dqhdt) - self.to_real(self.m2.dqhdt)\n",
    "\n",
    "    def to_real(self, var):\n",
    "        \"\"\"Convert variable to real space, if needed.\"\"\"\n",
    "        for m in [self.m1, self.m2]:\n",
    "            if var.shape == m.qh.shape:\n",
    "                return m.ifft(var)\n",
    "        return var\n",
    "\n",
    "    def to_spec(self, var):\n",
    "        \"\"\"Convert variable to spectral space, if needed.\"\"\"\n",
    "        for m in [self.m1, self.m2]:\n",
    "            if var.shape == m.q.shape:\n",
    "                return m.fft(var)\n",
    "        return var\n",
    "\n",
    "    def subgrid_forcing(self, var):\n",
    "        \"\"\"Compute subgrid forcing of a given `var` (as string).\"\"\"\n",
    "        q1 = getattr(self.m1, var)\n",
    "        q2 = getattr(self.m2, var)\n",
    "        adv1 = self.coarsen(self.m1._advect(q1))\n",
    "        adv2 = self.to_real(self.m2._advect(q2))\n",
    "        return adv1 - adv2\n",
    "\n",
    "    def subgrid_fluxes(self, var):\n",
    "        \"\"\"Compute subgrid fluxes (wrt. u and v) of a given `var`.\"\"\"\n",
    "        q1 = getattr(self.m1, var)\n",
    "        q2 = getattr(self.m2, var)\n",
    "        u_flux = self.coarsen(self.m1.ufull * q1) - self.m2.ufull * q2\n",
    "        v_flux = self.coarsen(self.m1.vfull * q1) - self.m2.vfull * q2\n",
    "        return u_flux, v_flux\n",
    "\n",
    "    @property\n",
    "    def ratio(self):\n",
    "        \"\"\"Ratio of high-res to low-res grid length.\"\"\"\n",
    "        return self.m1.nx / self.m2.nx\n",
    "\n",
    "    def coarsen(self, var):\n",
    "        \"\"\"Filter and coarse-grain a variable (as array).\"\"\"\n",
    "        raise NotImplementedError()\n",
    "\n",
    "    @cached_property\n",
    "    def ds1(self):\n",
    "        \"\"\"xarray representation of the high-res model.\"\"\"\n",
    "        return self.m1.to_dataset()"
   ]
  },
  {
   "cell_type": "code",
   "execution_count": 4,
   "id": "851f3c03",
   "metadata": {},
   "outputs": [],
   "source": [
    "class SpectralCoarsener(Coarsener):\n",
    "    \"\"\"Spectral truncation with a configurable filter.\"\"\"\n",
    "    def coarsen(self, var):\n",
    "        # Truncate high-frequency indices & filter\n",
    "        vh = self.to_spec(var)\n",
    "        nk = self.m2.qh.shape[1]//2\n",
    "        trunc = np.hstack((vh[:, :nk,:nk+1],\n",
    "                           vh[:,-nk:,:nk+1]))\n",
    "        filtered = trunc * self.spectral_filter / self.ratio**2\n",
    "        return self.to_real(filtered)\n",
    "\n",
    "    @property\n",
    "    def spectral_filter(self):\n",
    "        raise NotImplementedError()"
   ]
  },
  {
   "cell_type": "code",
   "execution_count": 5,
   "id": "9321c4e5",
   "metadata": {},
   "outputs": [],
   "source": [
    "class Operator1(SpectralCoarsener):\n",
    "    \"\"\"Spectral truncation with a sharp filter.\"\"\"\n",
    "    @property\n",
    "    def spectral_filter(self):\n",
    "        return self.m2.filtr"
   ]
  },
  {
   "cell_type": "code",
   "execution_count": 6,
   "id": "8a069037",
   "metadata": {},
   "outputs": [],
   "source": [
    "class Operator2(SpectralCoarsener):\n",
    "    \"\"\"Spectral truncation with a softer Gaussian filter.\"\"\"\n",
    "    @property\n",
    "    def spectral_filter(self):\n",
    "        return np.exp(-self.m2.wv**2 * (2*self.m2.dx)**2 / 24)"
   ]
  },
  {
   "cell_type": "code",
   "execution_count": 7,
   "id": "ad7c5199",
   "metadata": {},
   "outputs": [],
   "source": [
    "class Operator3(Coarsener):\n",
    "    \"\"\"Diffusion-based filter, then real-space coarsening.\"\"\"\n",
    "    def coarsen(self, var):\n",
    "        import gcm_filters\n",
    "        f = gcm_filters.Filter(dx_min=1,\n",
    "            filter_scale=self.ratio,\n",
    "            filter_shape=gcm_filters.FilterShape.GAUSSIAN,\n",
    "            grid_type=gcm_filters.GridType.REGULAR)\n",
    "        d = self.m1.to_dataset().isel(time=-1)\n",
    "        q = d.q*0 + self.to_real(var) # hackily convert to data array\n",
    "        r = int(self.ratio)\n",
    "        assert r == self.ratio\n",
    "        return f.apply(q, dims=['y','x']).coarsen(y=r, x=r).mean().data"
   ]
  },
  {
   "cell_type": "markdown",
   "id": "87534db9",
   "metadata": {},
   "source": [
    "TO ADD BELOW:\n",
    "SPECTRAL COARSE GRAINING: ideas\n",
    "1. Clustering/grouping similar spectral components?\n",
    "2. Wavelet transform to decompose frequency components --> then eliminate high freq\n",
    "3. Multiresolution Fourier Transform (i.e. look at bands of frequencies --> lower frequencies of more interest)\n",
    "    "
   ]
  },
  {
   "cell_type": "code",
   "execution_count": null,
   "id": "b97e4bf2",
   "metadata": {},
   "outputs": [],
   "source": [
    "class Operator4(Coarsener):\n",
    "    \"\"\"Spectral  with a softer Gaussian filter\"\"\"\n",
    "    \n",
    "    def coarsen_clust(self, var):\n",
    "        vh = self.to_spec(var)\n",
    "        return self.to_real(filtered)\n",
    "    \n",
    "    \n",
    "    @property\n",
    "    def spectral_filter(self):\n",
    "        return np.exp(-self.m2.wv**2 * (2*self.m2.dx)**2 / 24)"
   ]
  },
  {
   "cell_type": "raw",
   "id": "591dfb44",
   "metadata": {},
   "source": [
    "if __name__ == '__main__':\n",
    "    from scipy.stats import pearsonr\n",
    "\n",
    "    m1 = pyqg.QGModel(nx=256)\n",
    "\n",
    "    for _ in range(10000):\n",
    "        m1._step_forward()\n",
    "\n",
    "    op1 = Operator1(m1, 64)\n",
    "    op2 = Operator2(m1, 64)\n",
    "    op3 = Operator3(m1, 64)\n",
    "\n",
    "    for op in [op1, op2, op3]:\n",
    "        q_forcing = op.subgrid_forcing('q')\n",
    "\n",
    "        uq_flux, vq_flux = op.subgrid_fluxes('q')\n",
    "\n",
    "        q_forcing2 = op.m2.ifft(\n",
    "            op.m2.ik * op.m2.fft(uq_flux) +\n",
    "            op.m2.il * op.m2.fft(vq_flux)\n",
    "        )\n",
    "\n",
    "        corr = pearsonr(q_forcing.ravel(), q_forcing2.ravel())[0]\n",
    "\n",
    "        print(op.__class__.__name__, corr)\n",
    "\n",
    "        assert corr > 0.5"
   ]
  },
  {
   "cell_type": "code",
   "execution_count": null,
   "id": "386e2daf",
   "metadata": {},
   "outputs": [],
   "source": []
  }
 ],
 "metadata": {
  "kernelspec": {
   "display_name": "Python 3 (ipykernel)",
   "language": "python",
   "name": "python3"
  },
  "language_info": {
   "codemirror_mode": {
    "name": "ipython",
    "version": 3
   },
   "file_extension": ".py",
   "mimetype": "text/x-python",
   "name": "python",
   "nbconvert_exporter": "python",
   "pygments_lexer": "ipython3",
   "version": "3.9.12"
  }
 },
 "nbformat": 4,
 "nbformat_minor": 5
}
