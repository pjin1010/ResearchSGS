{
 "cells": [
  {
   "cell_type": "markdown",
   "id": "868333e1",
   "metadata": {},
   "source": [
    "---\n",
    "### ––– TEST DATA GENERATION CODE ––– "
   ]
  },
  {
   "cell_type": "markdown",
   "id": "dd5ce757",
   "metadata": {},
   "source": [
    "#### 1. Low Resolution Dataset"
   ]
  },
  {
   "cell_type": "code",
   "execution_count": null,
   "id": "e3a699d4",
   "metadata": {},
   "outputs": [],
   "source": [
    "low_res = pyqg.QGModel(nx=64, **base_kwargs)\n",
    "low_res.run()"
   ]
  },
  {
   "cell_type": "code",
   "execution_count": null,
   "id": "746f1d9b",
   "metadata": {},
   "outputs": [],
   "source": [
    "low_res.to_dataset()"
   ]
  },
  {
   "cell_type": "markdown",
   "id": "f513bb7d",
   "metadata": {},
   "source": [
    "#### 2. High Resolution Dataset"
   ]
  },
  {
   "cell_type": "code",
   "execution_count": null,
   "id": "35c01909",
   "metadata": {},
   "outputs": [],
   "source": [
    "high_res = pyqg.QGModel(nx=256, **base_kwargs)\n",
    "high_res.run()"
   ]
  },
  {
   "cell_type": "code",
   "execution_count": null,
   "id": "510cc407",
   "metadata": {},
   "outputs": [],
   "source": [
    "high_res.to_dataset()"
   ]
  },
  {
   "cell_type": "markdown",
   "id": "b88f9138",
   "metadata": {},
   "source": [
    "#### 3. Forcing Dataset"
   ]
  },
  {
   "cell_type": "code",
   "execution_count": null,
   "id": "5a91be2e",
   "metadata": {},
   "outputs": [],
   "source": [
    "%run forcing_data.ipynb"
   ]
  },
  {
   "cell_type": "code",
   "execution_count": null,
   "id": "c7d26f95",
   "metadata": {},
   "outputs": [],
   "source": [
    "# Let's run a new simulation\n",
    "generate_forcing_data()"
   ]
  },
  {
   "cell_type": "markdown",
   "id": "6e2940b9",
   "metadata": {},
   "source": [
    "#### 4. Check against eddy_forcing"
   ]
  },
  {
   "cell_type": "code",
   "execution_count": null,
   "id": "c15fb14e",
   "metadata": {},
   "outputs": [],
   "source": [
    "# Datasets are hosted on globus as zarr files\n",
    "# It appears as though datasets hosted on Globus aren't accessible\n",
    "# Updated function: downloaded via https://zenodo.org/record/6609035#.Y8HF1-zMKEM\n",
    "\n",
    "def get_dataset(path, base='datasets'):\n",
    "    mapper = fsspec.get_mapper(f\"{base}/{path}.zarr\")\n",
    "    return xr.open_zarr(mapper, consolidated=True)\n",
    "\n",
    "eddy_forcing1 = get_dataset('eddy/forcing1').isel(run=0).load()"
   ]
  },
  {
   "cell_type": "code",
   "execution_count": null,
   "id": "d83b85e4",
   "metadata": {},
   "outputs": [],
   "source": [
    "eddy_forcing1"
   ]
  },
  {
   "cell_type": "code",
   "execution_count": null,
   "id": "4f330a7c",
   "metadata": {},
   "outputs": [],
   "source": [
    "eddy_forcing1.q.shape"
   ]
  },
  {
   "cell_type": "markdown",
   "id": "dbcd6c97",
   "metadata": {},
   "source": [
    "---\n",
    "### ––– DEBUGGING SECTION –––"
   ]
  },
  {
   "cell_type": "markdown",
   "id": "15f6ef62",
   "metadata": {},
   "source": [
    "###### Smaller iterations"
   ]
  },
  {
   "cell_type": "code",
   "execution_count": null,
   "id": "3137a243",
   "metadata": {},
   "outputs": [],
   "source": [
    "### testing with 10 iterations\n",
    "base_kwargs_test = {'dt': 3600.0, 'tmax': 311040000.0/8, 'tavestart': 155520000.0/8}\n",
    "\n",
    "m = pyqg.QGModel(nx=256, **base_kwargs_test)\n",
    "snaps = []\n",
    "count = 0\n",
    "diag_temp = None\n",
    "\n",
    "while m.t < m.tmax:\n",
    "    if m.tc % 1000 == 0:\n",
    "        op1 = Operator1(m, 64)\n",
    "        op1.m2._initialize_diagnostics(diagnostics_list='all')\n",
    "        if diag_temp is not None:\n",
    "            op1.m2.diagnostics = diag_temp\n",
    "          \n",
    "        if (m.t>=m.dt) and (m.t>=m.tavestart) and (m.tc%m.taveints==0):\n",
    "            for d in op1.m2.diagnostics:\n",
    "                if op1.m2.diagnostics[d]['active']:\n",
    "                    op1.m2.diagnostics[d]['count'] = count\n",
    "            op1.m2._increment_diagnostics()\n",
    "            count+=1\n",
    "    \n",
    "        diag_temp = op1.m2.diagnostics  \n",
    "        \n",
    "        \n",
    "        temp = op1.m2.to_dataset().copy(deep=True)\n",
    "        snaps.append(temp)\n",
    "    m._step_forward()\n",
    "snaps"
   ]
  },
  {
   "cell_type": "code",
   "execution_count": null,
   "id": "887242e2",
   "metadata": {},
   "outputs": [],
   "source": [
    "ds_snaps = xr.concat(snaps, dim='time')\n",
    "\n",
    "for k,v in snaps[-1].variables.items():\n",
    "    if k not in ds_snaps:\n",
    "        ds_snaps[k] = v.isel(time=-1)\n",
    "        \n",
    "complex_vars = [k for k,v in ds_snaps.variables.items() if np.iscomplexobj(v)]\n",
    "ds_snaps = ds_snaps.drop_vars(complex_vars)\n",
    "ds_snaps.attrs['hires'] = 256\n",
    "ds_snaps.attrs['lores'] = 64\n",
    "\n",
    "\n",
    "ds_snaps"
   ]
  },
  {
   "cell_type": "markdown",
   "id": "bcd54243",
   "metadata": {},
   "source": [
    "###### From coarsening_ops.ipynb, or alternatively, coarsening_ops.py from the original directory"
   ]
  },
  {
   "cell_type": "code",
   "execution_count": null,
   "id": "a53ad311",
   "metadata": {},
   "outputs": [],
   "source": [
    "def config_for(m):\n",
    "    config = dict(H1 = m.Hi[0])\n",
    "    for prop in ['L', 'W', 'dt', 'rek', 'g', 'beta', 'delta',\n",
    "                'U1', 'U2', 'rd', 'dt', 'tmax', 'tavestart']:\n",
    "        config[prop] = getattr(m, prop)\n",
    "\n",
    "    return config"
   ]
  },
  {
   "cell_type": "code",
   "execution_count": null,
   "id": "d602757c",
   "metadata": {},
   "outputs": [],
   "source": [
    "m2 = pyqg.QGModel(nx=64, **config_for(m))\n",
    "m2._invert()\n",
    "m2._calc_derived_fields()"
   ]
  },
  {
   "cell_type": "code",
   "execution_count": null,
   "id": "87a0716d",
   "metadata": {},
   "outputs": [],
   "source": [
    "snaps = []\n",
    "while m2.t < m2.tmax:\n",
    "    if m2.tc % 1000 == 0:\n",
    "        temp = m2.to_dataset().copy(deep=True)\n",
    "        snaps.append(temp)\n",
    "    m2._step_forward()\n",
    "snaps"
   ]
  },
  {
   "cell_type": "markdown",
   "id": "7ed9010f",
   "metadata": {},
   "source": [
    "###### Checking variables"
   ]
  },
  {
   "cell_type": "code",
   "execution_count": null,
   "id": "ac5dcd31",
   "metadata": {},
   "outputs": [],
   "source": [
    "l1 = list(eddy_forcing1.keys())\n",
    "l1.sort()\n",
    "print(l1)"
   ]
  },
  {
   "cell_type": "code",
   "execution_count": null,
   "id": "98280e34",
   "metadata": {},
   "outputs": [],
   "source": [
    "l2 = list(ds1.keys())\n",
    "l2.sort()\n",
    "print(l2)"
   ]
  }
 ],
 "metadata": {
  "kernelspec": {
   "display_name": "Python 3 (ipykernel)",
   "language": "python",
   "name": "python3"
  },
  "language_info": {
   "codemirror_mode": {
    "name": "ipython",
    "version": 3
   },
   "file_extension": ".py",
   "mimetype": "text/x-python",
   "name": "python",
   "nbconvert_exporter": "python",
   "pygments_lexer": "ipython3",
   "version": "3.9.12"
  }
 },
 "nbformat": 4,
 "nbformat_minor": 5
}
